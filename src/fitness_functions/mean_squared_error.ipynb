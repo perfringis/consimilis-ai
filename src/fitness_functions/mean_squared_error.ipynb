{
 "cells": [
  {
   "cell_type": "code",
   "execution_count": null,
   "id": "22958c71-aeb6-44ca-a3c4-31f8d51603b4",
   "metadata": {},
   "outputs": [],
   "source": [
    "\"\"\"\n",
    "Mean Squared Error (MSE)\n",
    "\n",
    "https://en.wikipedia.org/wiki/Mean_squared_error\n",
    "\"\"\""
   ]
  },
  {
   "cell_type": "code",
   "execution_count": 4,
   "id": "2b8bf2fb",
   "metadata": {},
   "outputs": [
    {
     "name": "stdout",
     "output_type": "stream",
     "text": [
      "MEAN SQUARED ERROR 0.20404305389452568\n"
     ]
    }
   ],
   "source": [
    "import cv2\n",
    "import numpy as np\n",
    "\n",
    "actual_image = cv2.imread('blank_star.png')\n",
    "prediction_image = cv2.imread('blank.png')\n",
    "\n",
    "mean_squared_root = np.mean((actual_image - prediction_image) ** 2)\n",
    "\n",
    "print(f'MEAN SQUARED ERROR {mean_squared_root}')\n",
    "\n",
    "subtraction_image = actual_image - prediction_image\n",
    "\n",
    "cv2.imshow('image', subtraction_image)\n",
    "\n",
    "# ESC key\n",
    "k = cv2.waitKey(0) & 0xFF\n",
    "if k == 27:\n",
    "    cv2.destroyAllWindows()"
   ]
  }
 ],
 "metadata": {
  "kernelspec": {
   "display_name": "Python 3 (ipykernel)",
   "language": "python",
   "name": "python3"
  },
  "language_info": {
   "codemirror_mode": {
    "name": "ipython",
    "version": 3
   },
   "file_extension": ".py",
   "mimetype": "text/x-python",
   "name": "python",
   "nbconvert_exporter": "python",
   "pygments_lexer": "ipython3",
   "version": "3.10.12"
  }
 },
 "nbformat": 4,
 "nbformat_minor": 5
}
