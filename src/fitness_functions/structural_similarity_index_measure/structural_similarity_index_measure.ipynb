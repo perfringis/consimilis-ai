{
 "cells": [
  {
   "cell_type": "code",
   "execution_count": null,
   "id": "07238d98-8612-431b-8d56-69f7b87aff76",
   "metadata": {},
   "outputs": [],
   "source": [
    "\"\"\"\n",
    "https://en.wikipedia.org/wiki/Structural_similarity_index_measure\n",
    "\n",
    "Implementation of SSIM in matlab: https://www.cns.nyu.edu/~lcv/ssim/ssim_index.m\n",
    "\n",
    "Efficient matlab implementation: http://ssim.rivetsforbreakfast.com/\n",
    "\n",
    "SSIM and multi scale SSIM implementation: https://imagej.net/ij/plugins/mssim-index.html\n",
    "\n",
    "Implementation in C++: http://mehdi.rabah.free.fr/SSIM/\n",
    "\n",
    "Understanding of SSIM: https://arxiv.org/pdf/2006.13846.pdf\n",
    "\n",
    "Implementatio of SCIKIT-IMAGE: https://scikit-image.org/docs/stable/auto_examples/transform/plot_ssim.html\n",
    "\n",
    "\"\"\""
   ]
  }
 ],
 "metadata": {
  "kernelspec": {
   "display_name": "Python 3 (ipykernel)",
   "language": "python",
   "name": "python3"
  },
  "language_info": {
   "codemirror_mode": {
    "name": "ipython",
    "version": 3
   },
   "file_extension": ".py",
   "mimetype": "text/x-python",
   "name": "python",
   "nbconvert_exporter": "python",
   "pygments_lexer": "ipython3",
   "version": "3.10.12"
  }
 },
 "nbformat": 4,
 "nbformat_minor": 5
}
