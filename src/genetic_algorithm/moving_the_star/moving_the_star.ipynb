{
 "cells": [
  {
   "cell_type": "code",
   "execution_count": 3,
   "metadata": {},
   "outputs": [
    {
     "name": "stdout",
     "output_type": "stream",
     "text": [
      "16.0\n"
     ]
    }
   ],
   "source": [
    "\"\"\"\n",
    "\n",
    "Mean squared error\n",
    "\n",
    "https://en.wikipedia.org/wiki/Mean_squared_error\n",
    "\n",
    "https://online.stat.psu.edu/stat857/node/160/\n",
    "\n",
    "\n",
    "\"\"\""
   ]
  },
  {
   "cell_type": "code",
   "execution_count": null,
   "metadata": {},
   "outputs": [],
   "source": [
    "\"\"\"\n",
    "    Structural Similarity Index (SSIM): Compute the structural similarity index between the original and reconstructed images. SSIM takes into account luminance, contrast, and structure similarities and provides a score between -1 and 1, with 1 indicating perfect similarity.\n",
    "\n",
    "    Peak Signal-to-Noise Ratio (PSNR): Calculate the PSNR between the original and reconstructed images. PSNR measures the ratio of the maximum possible power of a signal to the power of corrupting noise and provides a logarithmic scale for representing image quality.\n",
    "\n",
    "    Feature Matching: Use feature extraction techniques (e.g., using convolutional neural networks) to extract high-level features from both the original and reconstructed images. Then, calculate the Euclidean distance or cosine similarity between the feature representations as the fitness score.\n",
    "\n",
    "    Perceptual Loss: Train a neural network to learn a perceptual loss function that captures perceptual differences between images. This involves using a pre-trained network (e.g., VGG or ResNet) to extract features and optimizing the network to minimize the difference between the features of the original and reconstructed images.\n",
    "\n",
    "    Human Evaluation: If possible, involve human evaluators to subjectively assess the quality of the reconstructed image compared to the original. This could be done through surveys or visual inspection.\n",
    "\"\"\""
   ]
  },
  {
   "cell_type": "code",
   "execution_count": 3,
   "metadata": {},
   "outputs": [
    {
     "data": {
      "text/plain": [
       "True"
      ]
     },
     "execution_count": 3,
     "metadata": {},
     "output_type": "execute_result"
    }
   ],
   "source": [
    "# create blank image\n",
    "\n",
    "import numpy as np\n",
    "import cv2\n",
    "\n",
    "img = np.zeros((966,966,3), dtype=np.uint8)\n",
    "\n",
    "cv2.imwrite('blank.png', img)"
   ]
  },
  {
   "cell_type": "markdown",
   "metadata": {},
   "source": []
  }
 ],
 "metadata": {
  "kernelspec": {
   "display_name": "consimilis-ai",
   "language": "python",
   "name": "python3"
  },
  "language_info": {
   "codemirror_mode": {
    "name": "ipython",
    "version": 3
   },
   "file_extension": ".py",
   "mimetype": "text/x-python",
   "name": "python",
   "nbconvert_exporter": "python",
   "pygments_lexer": "ipython3",
   "version": "3.10.12"
  }
 },
 "nbformat": 4,
 "nbformat_minor": 2
}
