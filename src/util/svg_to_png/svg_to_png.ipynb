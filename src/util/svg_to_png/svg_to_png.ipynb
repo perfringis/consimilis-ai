{
 "cells": [
  {
   "cell_type": "code",
   "execution_count": 1,
   "id": "363a561e-4759-4748-b7b3-a2051816dec2",
   "metadata": {},
   "outputs": [],
   "source": [
    "# convert svg to png\n",
    "\n",
    "import os\n",
    "from cairosvg import svg2png\n",
    "\n",
    "def convert_files_from_svg_to_png(vector_graphics_directory='vector_graphics', raster_graphics_directory='raster_graphics'):\n",
    "\n",
    "    # create directory and clean existing\n",
    "    if not os.path.exists(raster_graphics_directory):\n",
    "        os.mkdir(raster_graphics_directory)\n",
    "    else:\n",
    "        for filename in os.listdir(raster_graphics_directory):\n",
    "            file_path = os.path.join(raster_graphics_directory, filename)\n",
    "\n",
    "            if os.path.isfile(file_path):\n",
    "                os.remove(file_path)\n",
    "\n",
    "    # convert svg file to png\n",
    "    for filename in os.listdir(vector_graphics_directory):\n",
    "        svg_path = os.path.join(vector_graphics_directory, filename)\n",
    "        png_path = os.path.join(raster_graphics_directory,\n",
    "                                filename).replace('.svg', '.png')\n",
    "\n",
    "        svg2png(url=svg_path, write_to=png_path)"
   ]
  }
 ],
 "metadata": {
  "kernelspec": {
   "display_name": "Python 3 (ipykernel)",
   "language": "python",
   "name": "python3"
  },
  "language_info": {
   "codemirror_mode": {
    "name": "ipython",
    "version": 3
   },
   "file_extension": ".py",
   "mimetype": "text/x-python",
   "name": "python",
   "nbconvert_exporter": "python",
   "pygments_lexer": "ipython3",
   "version": "3.10.12"
  }
 },
 "nbformat": 4,
 "nbformat_minor": 5
}
