{
 "cells": [
  {
   "cell_type": "code",
   "execution_count": null,
   "id": "d99d233d-6a4e-44fd-b69c-bd34d7639c6a",
   "metadata": {},
   "outputs": [],
   "source": [
    "\"\"\"\n",
    "\n",
    "Learning exmaples here:\n",
    "\n",
    "https://www.whitman.edu/Documents/Academics/Mathematics/2014/carrjk.pdf\n",
    "\"\"\""
   ]
  },
  {
   "cell_type": "code",
   "execution_count": null,
   "id": "6e40b80f-9ba9-4125-916e-14d6d308c8c3",
   "metadata": {},
   "outputs": [],
   "source": [
    "\"\"\"\n",
    "\n",
    "fitness function\n",
    "\n",
    "The fitness function is the function that the algorithm is trying to optimize [8]. The word\n",
    "“fitness” is taken from evolutionary theory. It is used here because the fitness function tests\n",
    "and quantifies how ‘fit’ each potential solution is. The fitness function is one of the most\n",
    "pivotal parts of the algorithm, so it is discussed in more detail at the end of this section\n",
    "\"\"\""
   ]
  },
  {
   "cell_type": "code",
   "execution_count": null,
   "id": "47fcb271-166e-464e-bdd0-94c1f6f09507",
   "metadata": {},
   "outputs": [],
   "source": [
    "\"\"\"\n",
    "\n",
    "chromosome structure\n",
    "\n",
    "Modern computers allow\n",
    "chromosomes to include permutations, real numbers, and many other objects; but for now\n",
    "we will focus on binary chromosomes.\n",
    "\"\"\""
   ]
  },
  {
   "cell_type": "code",
   "execution_count": null,
   "id": "c866c0d3-f853-42a6-b602-eaa1af3682a9",
   "metadata": {},
   "outputs": [],
   "source": [
    "\"\"\"\n",
    "\n",
    "Mutation probability \n",
    "\n",
    "Typically mutation happens with a very\n",
    "low probability, such as 0.001.\n",
    "\n",
    "\"\"\""
   ]
  },
  {
   "cell_type": "code",
   "execution_count": null,
   "id": "6aca1a61-5fc2-445f-b2dc-4caf2c9fab73",
   "metadata": {},
   "outputs": [],
   "source": [
    "\"\"\"\n",
    "\n",
    "Mutation helps to not stuck in local optimal solution\n",
    "\n",
    "In other words, the algorithm can get stuck at a local optimum before finding the global optimum [3].\n",
    "The mutation operator helps protect against this problem by maintaining diversity in the\n",
    "population, but it can also make the algorithm converge more slowly.\n",
    "\"\"\""
   ]
  },
  {
   "cell_type": "code",
   "execution_count": null,
   "id": "ca7050ae-2d43-43fc-a886-534785f48e97",
   "metadata": {},
   "outputs": [],
   "source": [
    "\"\"\"\n",
    "\n",
    "Stable value after cetain amounts of runs indicates best score\n",
    "\n",
    "Stable value could be fluctuate in that case best result can be in specific range\n",
    "\n",
    "Genetic algorithms are iterated until the fitness value of the “best-so-far” chromosome\n",
    "stabilizes and does not change for many generations. This means the algorithm has converged to a solution(s).\n",
    "\n",
    "\"\"\""
   ]
  }
 ],
 "metadata": {
  "kernelspec": {
   "display_name": "Python 3 (ipykernel)",
   "language": "python",
   "name": "python3"
  },
  "language_info": {
   "codemirror_mode": {
    "name": "ipython",
    "version": 3
   },
   "file_extension": ".py",
   "mimetype": "text/x-python",
   "name": "python",
   "nbconvert_exporter": "python",
   "pygments_lexer": "ipython3",
   "version": "3.10.12"
  }
 },
 "nbformat": 4,
 "nbformat_minor": 5
}
