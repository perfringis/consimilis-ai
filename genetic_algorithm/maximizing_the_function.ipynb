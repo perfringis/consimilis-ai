{
 "cells": [
  {
   "cell_type": "code",
   "execution_count": null,
   "id": "d99d233d-6a4e-44fd-b69c-bd34d7639c6a",
   "metadata": {},
   "outputs": [],
   "source": [
    "\"\"\"\n",
    "\n",
    "Learning exmaples here:\n",
    "\n",
    "https://www.whitman.edu/Documents/Academics/Mathematics/2014/carrjk.pdf\n",
    "\"\"\""
   ]
  },
  {
   "cell_type": "code",
   "execution_count": null,
   "id": "6e40b80f-9ba9-4125-916e-14d6d308c8c3",
   "metadata": {},
   "outputs": [],
   "source": [
    "\"\"\"\n",
    "\n",
    "fitness function\n",
    "\n",
    "The fitness function is the function that the algorithm is trying to optimize [8]. The word\n",
    "“fitness” is taken from evolutionary theory. It is used here because the fitness function tests\n",
    "and quantifies how ‘fit’ each potential solution is. The fitness function is one of the most\n",
    "pivotal parts of the algorithm, so it is discussed in more detail at the end of this section\n",
    "\"\"\""
   ]
  },
  {
   "cell_type": "code",
   "execution_count": null,
   "id": "47fcb271-166e-464e-bdd0-94c1f6f09507",
   "metadata": {},
   "outputs": [],
   "source": [
    "\"\"\"\n",
    "\n",
    "chromosome structure\n",
    "\n",
    "Modern computers allow\n",
    "chromosomes to include permutations, real numbers, and many other objects; but for now\n",
    "we will focus on binary chromosomes.\n",
    "\"\"\""
   ]
  },
  {
   "cell_type": "code",
   "execution_count": null,
   "id": "c866c0d3-f853-42a6-b602-eaa1af3682a9",
   "metadata": {},
   "outputs": [],
   "source": [
    "\"\"\"\n",
    "\n",
    "Mutation probability \n",
    "\n",
    "Typically mutation happens with a very\n",
    "low probability, such as 0.001.\n",
    "\n",
    "\"\"\""
   ]
  },
  {
   "cell_type": "code",
   "execution_count": null,
   "id": "6aca1a61-5fc2-445f-b2dc-4caf2c9fab73",
   "metadata": {},
   "outputs": [],
   "source": [
    "\"\"\"\n",
    "\n",
    "Mutation helps to not stuck in local optimal solution\n",
    "\n",
    "In other words, the algorithm can get stuck at a local optimum before finding the global optimum [3].\n",
    "The mutation operator helps protect against this problem by maintaining diversity in the\n",
    "population, but it can also make the algorithm converge more slowly.\n",
    "\"\"\""
   ]
  },
  {
   "cell_type": "code",
   "execution_count": null,
   "id": "ca7050ae-2d43-43fc-a886-534785f48e97",
   "metadata": {},
   "outputs": [],
   "source": [
    "\"\"\"\n",
    "\n",
    "Stable value after cetain amounts of runs indicates best score\n",
    "\n",
    "Stable value could be fluctuate in that case best result can be in specific range\n",
    "\n",
    "Genetic algorithms are iterated until the fitness value of the “best-so-far” chromosome\n",
    "stabilizes and does not change for many generations. This means the algorithm has converged to a solution(s).\n",
    "\n",
    "\"\"\""
   ]
  },
  {
   "cell_type": "code",
   "execution_count": null,
   "id": "54eed844-b282-4d7e-8532-9c7b988f37a6",
   "metadata": {},
   "outputs": [],
   "source": [
    "\"\"\"\n",
    "\n",
    "maximizing the function: f(x) = (-x^2)/10 + 3x\n",
    "\n",
    "\"\"\""
   ]
  },
  {
   "cell_type": "code",
   "execution_count": 1,
   "id": "95705459-1f8d-48dc-8cb8-304a12ccf571",
   "metadata": {},
   "outputs": [
    {
     "name": "stdout",
     "output_type": "stream",
     "text": [
      "Best result  (array([0.        , 1.        , 1.        , 1.84029181, 0.        ]), 22.453680593584515, 0)\n"
     ]
    },
    {
     "name": "stderr",
     "output_type": "stream",
     "text": [
      "/home/user/Repositories/consimilis-ai/lib/python3.10/site-packages/pygad/pygad.py:1139: UserWarning: The 'delay_after_gen' parameter is deprecated starting from PyGAD 3.3.0. To delay or pause the evolution after each generation, assign a callback function/method to the 'on_generation' parameter to adds some time delay.\n",
      "  warnings.warn(\"The 'delay_after_gen' parameter is deprecated starting from PyGAD 3.3.0. To delay or pause the evolution after each generation, assign a callback function/method to the 'on_generation' parameter to adds some time delay.\")\n"
     ]
    }
   ],
   "source": [
    "import pygad\n",
    "import numpy as np\n",
    "\n",
    "initial_population = np.random.randint(2, size=(10, 5))\n",
    "\n",
    "\n",
    "def fitness_func(ga_instance, solution, solution_idx):\n",
    "    chromosome = solution\n",
    "\n",
    "    x = np.dot(chromosome, 2 ** np.arange(len(chromosome))[::-1])\n",
    "\n",
    "    return -(x**2)/10 + 3 * x\n",
    "\n",
    "\n",
    "fitness_function = fitness_func\n",
    "\n",
    "\n",
    "def on_start(ga_instance):\n",
    "    pass\n",
    "\n",
    "\n",
    "def on_fitness(ga_instance, population_fitness):\n",
    "    pass\n",
    "\n",
    "\n",
    "def on_parents(ga_instance, selected_parents):\n",
    "    pass\n",
    "\n",
    "\n",
    "def on_crossover(ga_instance, offspring_crossover):\n",
    "    pass\n",
    "\n",
    "\n",
    "def on_mutation(ga_instance, offspring_mutation):\n",
    "    pass\n",
    "\n",
    "\n",
    "def on_generation(ga_instance):\n",
    "    pass\n",
    "\n",
    "\n",
    "def on_stop(ga_instance, last_population_fitness):\n",
    "    pass\n",
    "\n",
    "\n",
    "ga_instance = pygad.GA(\n",
    "    initial_population=initial_population,\n",
    "    num_generations=50,\n",
    "    num_parents_mating=5,\n",
    "    fitness_func=fitness_function,\n",
    "    sol_per_pop=10,\n",
    "    num_genes=len(initial_population),\n",
    "    mutation_type=\"random\",\n",
    "    mutation_probability=0.001,\n",
    "    crossover_type=\"single_point\",\n",
    "    parent_selection_type='rws',\n",
    "    on_start=on_start,\n",
    "    on_fitness=on_fitness,\n",
    "    on_parents=on_parents,\n",
    "    on_crossover=on_crossover,\n",
    "    on_mutation=on_mutation,\n",
    "    on_generation=on_generation,\n",
    "    on_stop=on_stop)\n",
    "\n",
    "ga_instance.run()\n",
    "\n",
    "print(\"Best result \", ga_instance.best_solution())\n"
   ]
  },
  {
   "cell_type": "code",
   "execution_count": null,
   "id": "b7237c8b-be6a-4c06-934c-b8c8ad3eb5df",
   "metadata": {},
   "outputs": [],
   "source": []
  }
 ],
 "metadata": {
  "kernelspec": {
   "display_name": "Python 3 (ipykernel)",
   "language": "python",
   "name": "python3"
  },
  "language_info": {
   "codemirror_mode": {
    "name": "ipython",
    "version": 3
   },
   "file_extension": ".py",
   "mimetype": "text/x-python",
   "name": "python",
   "nbconvert_exporter": "python",
   "pygments_lexer": "ipython3",
   "version": "3.10.12"
  }
 },
 "nbformat": 4,
 "nbformat_minor": 5
}
